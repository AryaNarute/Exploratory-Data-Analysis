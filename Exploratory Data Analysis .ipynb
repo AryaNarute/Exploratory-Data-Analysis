{
 "cells": [
  {
   "cell_type": "markdown",
   "id": "10c521dd-00bb-4b67-866f-f3c1e50bcd29",
   "metadata": {},
   "source": [
    "### Questions For Exploratory Data Analysis"
   ]
  },
  {
   "cell_type": "markdown",
   "id": "6cfb2dbb-59db-45c0-9eaf-472e53b2a1ac",
   "metadata": {},
   "source": [
    "<img\n",
    "src=\"https://daxg39y63pxwu.cloudfront.net/images/blog/exploratory-data-analysis-projects-in-python/Exploratory_Data_Analysis_Projects_in_Python.webp\">"
   ]
  },
  {
   "cell_type": "markdown",
   "id": "86787acf-0d6f-41df-88c5-e03d567ff939",
   "metadata": {},
   "source": [
    "#### Import neccesary Libraries"
   ]
  },
  {
   "cell_type": "code",
   "execution_count": 2,
   "id": "cc8bdde8-b1f2-4bf7-859d-6d66e005cea0",
   "metadata": {},
   "outputs": [],
   "source": [
    "import pandas as pd\n",
    "import numpy as np\n",
    "from matplotlib import pyplot as plt\n",
    "import seaborn as sns"
   ]
  },
  {
   "cell_type": "markdown",
   "id": "df81bc93-0a12-4abe-821f-d6a662d349db",
   "metadata": {},
   "source": [
    "#### Load the Dataset"
   ]
  },
  {
   "cell_type": "code",
   "execution_count": 3,
   "id": "1a692b65-591a-46ac-95a5-ff712ab2cae0",
   "metadata": {},
   "outputs": [
    {
     "data": {
      "text/plain": [
       "'C:\\\\Users\\\\admin'"
      ]
     },
     "execution_count": 3,
     "metadata": {},
     "output_type": "execute_result"
    }
   ],
   "source": [
    "%pwd"
   ]
  },
  {
   "cell_type": "code",
   "execution_count": 4,
   "id": "8b6716c2-b5d7-4abc-84d3-1231ed0a81cf",
   "metadata": {},
   "outputs": [
    {
     "name": "stdout",
     "output_type": "stream",
     "text": [
      "C:\\Users\\admin\\Downloads\n"
     ]
    }
   ],
   "source": [
    "%cd Downloads"
   ]
  },
  {
   "cell_type": "markdown",
   "id": "bd047b51-3003-4f50-b512-bed8883a1155",
   "metadata": {},
   "source": [
    "<img\n",
    "src=\"data:image/jpeg;base64,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\">"
   ]
  },
  {
   "cell_type": "code",
   "execution_count": 5,
   "id": "a4bf286c-a159-419e-8253-d409b6f3f5a3",
   "metadata": {},
   "outputs": [
    {
     "data": {
      "text/html": [
       "<div>\n",
       "<style scoped>\n",
       "    .dataframe tbody tr th:only-of-type {\n",
       "        vertical-align: middle;\n",
       "    }\n",
       "\n",
       "    .dataframe tbody tr th {\n",
       "        vertical-align: top;\n",
       "    }\n",
       "\n",
       "    .dataframe thead th {\n",
       "        text-align: right;\n",
       "    }\n",
       "</style>\n",
       "<table border=\"1\" class=\"dataframe\">\n",
       "  <thead>\n",
       "    <tr style=\"text-align: right;\">\n",
       "      <th></th>\n",
       "      <th>Pregnancies</th>\n",
       "      <th>Glucose</th>\n",
       "      <th>BloodPressure</th>\n",
       "      <th>SkinThickness</th>\n",
       "      <th>Insulin</th>\n",
       "      <th>BMI</th>\n",
       "      <th>DiabetesPedigreeFunction</th>\n",
       "      <th>Age</th>\n",
       "      <th>Outcome</th>\n",
       "    </tr>\n",
       "  </thead>\n",
       "  <tbody>\n",
       "    <tr>\n",
       "      <th>0</th>\n",
       "      <td>6</td>\n",
       "      <td>148</td>\n",
       "      <td>72</td>\n",
       "      <td>35</td>\n",
       "      <td>0</td>\n",
       "      <td>33.6</td>\n",
       "      <td>0.627</td>\n",
       "      <td>50</td>\n",
       "      <td>1</td>\n",
       "    </tr>\n",
       "    <tr>\n",
       "      <th>1</th>\n",
       "      <td>1</td>\n",
       "      <td>85</td>\n",
       "      <td>66</td>\n",
       "      <td>29</td>\n",
       "      <td>0</td>\n",
       "      <td>26.6</td>\n",
       "      <td>0.351</td>\n",
       "      <td>31</td>\n",
       "      <td>0</td>\n",
       "    </tr>\n",
       "    <tr>\n",
       "      <th>2</th>\n",
       "      <td>8</td>\n",
       "      <td>183</td>\n",
       "      <td>64</td>\n",
       "      <td>0</td>\n",
       "      <td>0</td>\n",
       "      <td>23.3</td>\n",
       "      <td>0.672</td>\n",
       "      <td>32</td>\n",
       "      <td>1</td>\n",
       "    </tr>\n",
       "    <tr>\n",
       "      <th>3</th>\n",
       "      <td>1</td>\n",
       "      <td>89</td>\n",
       "      <td>66</td>\n",
       "      <td>23</td>\n",
       "      <td>94</td>\n",
       "      <td>28.1</td>\n",
       "      <td>0.167</td>\n",
       "      <td>21</td>\n",
       "      <td>0</td>\n",
       "    </tr>\n",
       "    <tr>\n",
       "      <th>4</th>\n",
       "      <td>0</td>\n",
       "      <td>137</td>\n",
       "      <td>40</td>\n",
       "      <td>35</td>\n",
       "      <td>168</td>\n",
       "      <td>43.1</td>\n",
       "      <td>2.288</td>\n",
       "      <td>33</td>\n",
       "      <td>1</td>\n",
       "    </tr>\n",
       "    <tr>\n",
       "      <th>...</th>\n",
       "      <td>...</td>\n",
       "      <td>...</td>\n",
       "      <td>...</td>\n",
       "      <td>...</td>\n",
       "      <td>...</td>\n",
       "      <td>...</td>\n",
       "      <td>...</td>\n",
       "      <td>...</td>\n",
       "      <td>...</td>\n",
       "    </tr>\n",
       "    <tr>\n",
       "      <th>763</th>\n",
       "      <td>10</td>\n",
       "      <td>101</td>\n",
       "      <td>76</td>\n",
       "      <td>48</td>\n",
       "      <td>180</td>\n",
       "      <td>32.9</td>\n",
       "      <td>0.171</td>\n",
       "      <td>63</td>\n",
       "      <td>0</td>\n",
       "    </tr>\n",
       "    <tr>\n",
       "      <th>764</th>\n",
       "      <td>2</td>\n",
       "      <td>122</td>\n",
       "      <td>70</td>\n",
       "      <td>27</td>\n",
       "      <td>0</td>\n",
       "      <td>36.8</td>\n",
       "      <td>0.340</td>\n",
       "      <td>27</td>\n",
       "      <td>0</td>\n",
       "    </tr>\n",
       "    <tr>\n",
       "      <th>765</th>\n",
       "      <td>5</td>\n",
       "      <td>121</td>\n",
       "      <td>72</td>\n",
       "      <td>23</td>\n",
       "      <td>112</td>\n",
       "      <td>26.2</td>\n",
       "      <td>0.245</td>\n",
       "      <td>30</td>\n",
       "      <td>0</td>\n",
       "    </tr>\n",
       "    <tr>\n",
       "      <th>766</th>\n",
       "      <td>1</td>\n",
       "      <td>126</td>\n",
       "      <td>60</td>\n",
       "      <td>0</td>\n",
       "      <td>0</td>\n",
       "      <td>30.1</td>\n",
       "      <td>0.349</td>\n",
       "      <td>47</td>\n",
       "      <td>1</td>\n",
       "    </tr>\n",
       "    <tr>\n",
       "      <th>767</th>\n",
       "      <td>1</td>\n",
       "      <td>93</td>\n",
       "      <td>70</td>\n",
       "      <td>31</td>\n",
       "      <td>0</td>\n",
       "      <td>30.4</td>\n",
       "      <td>0.315</td>\n",
       "      <td>23</td>\n",
       "      <td>0</td>\n",
       "    </tr>\n",
       "  </tbody>\n",
       "</table>\n",
       "<p>768 rows × 9 columns</p>\n",
       "</div>"
      ],
      "text/plain": [
       "     Pregnancies  Glucose  BloodPressure  SkinThickness  Insulin   BMI  \\\n",
       "0              6      148             72             35        0  33.6   \n",
       "1              1       85             66             29        0  26.6   \n",
       "2              8      183             64              0        0  23.3   \n",
       "3              1       89             66             23       94  28.1   \n",
       "4              0      137             40             35      168  43.1   \n",
       "..           ...      ...            ...            ...      ...   ...   \n",
       "763           10      101             76             48      180  32.9   \n",
       "764            2      122             70             27        0  36.8   \n",
       "765            5      121             72             23      112  26.2   \n",
       "766            1      126             60              0        0  30.1   \n",
       "767            1       93             70             31        0  30.4   \n",
       "\n",
       "     DiabetesPedigreeFunction  Age  Outcome  \n",
       "0                       0.627   50        1  \n",
       "1                       0.351   31        0  \n",
       "2                       0.672   32        1  \n",
       "3                       0.167   21        0  \n",
       "4                       2.288   33        1  \n",
       "..                        ...  ...      ...  \n",
       "763                     0.171   63        0  \n",
       "764                     0.340   27        0  \n",
       "765                     0.245   30        0  \n",
       "766                     0.349   47        1  \n",
       "767                     0.315   23        0  \n",
       "\n",
       "[768 rows x 9 columns]"
      ]
     },
     "execution_count": 5,
     "metadata": {},
     "output_type": "execute_result"
    }
   ],
   "source": [
    "df = pd.read_csv(\"diabetes.csv\")\n",
    "df"
   ]
  },
  {
   "cell_type": "markdown",
   "id": "0a160fbf-0721-4c46-b577-156edbb2886c",
   "metadata": {},
   "source": [
    "#### 1. General Data Overview"
   ]
  },
  {
   "cell_type": "markdown",
   "id": "e074b5a1-6272-4bd4-a59b-00c4419c7286",
   "metadata": {},
   "source": [
    "#### a. What are the basic statistics (mean,median,standard deviation,etc) for each features in the dataset"
   ]
  },
  {
   "cell_type": "code",
   "execution_count": 6,
   "id": "b27e0955-16a5-48f8-ae3f-b4d931b81931",
   "metadata": {},
   "outputs": [
    {
     "data": {
      "text/html": [
       "<div>\n",
       "<style scoped>\n",
       "    .dataframe tbody tr th:only-of-type {\n",
       "        vertical-align: middle;\n",
       "    }\n",
       "\n",
       "    .dataframe tbody tr th {\n",
       "        vertical-align: top;\n",
       "    }\n",
       "\n",
       "    .dataframe thead th {\n",
       "        text-align: right;\n",
       "    }\n",
       "</style>\n",
       "<table border=\"1\" class=\"dataframe\">\n",
       "  <thead>\n",
       "    <tr style=\"text-align: right;\">\n",
       "      <th></th>\n",
       "      <th>Pregnancies</th>\n",
       "      <th>Glucose</th>\n",
       "      <th>BloodPressure</th>\n",
       "      <th>SkinThickness</th>\n",
       "      <th>Insulin</th>\n",
       "      <th>BMI</th>\n",
       "      <th>DiabetesPedigreeFunction</th>\n",
       "      <th>Age</th>\n",
       "      <th>Outcome</th>\n",
       "    </tr>\n",
       "  </thead>\n",
       "  <tbody>\n",
       "    <tr>\n",
       "      <th>count</th>\n",
       "      <td>768.000000</td>\n",
       "      <td>768.000000</td>\n",
       "      <td>768.000000</td>\n",
       "      <td>768.000000</td>\n",
       "      <td>768.000000</td>\n",
       "      <td>768.000000</td>\n",
       "      <td>768.000000</td>\n",
       "      <td>768.000000</td>\n",
       "      <td>768.000000</td>\n",
       "    </tr>\n",
       "    <tr>\n",
       "      <th>mean</th>\n",
       "      <td>3.845052</td>\n",
       "      <td>120.894531</td>\n",
       "      <td>69.105469</td>\n",
       "      <td>20.536458</td>\n",
       "      <td>79.799479</td>\n",
       "      <td>31.992578</td>\n",
       "      <td>0.471876</td>\n",
       "      <td>33.240885</td>\n",
       "      <td>0.348958</td>\n",
       "    </tr>\n",
       "    <tr>\n",
       "      <th>std</th>\n",
       "      <td>3.369578</td>\n",
       "      <td>31.972618</td>\n",
       "      <td>19.355807</td>\n",
       "      <td>15.952218</td>\n",
       "      <td>115.244002</td>\n",
       "      <td>7.884160</td>\n",
       "      <td>0.331329</td>\n",
       "      <td>11.760232</td>\n",
       "      <td>0.476951</td>\n",
       "    </tr>\n",
       "    <tr>\n",
       "      <th>min</th>\n",
       "      <td>0.000000</td>\n",
       "      <td>0.000000</td>\n",
       "      <td>0.000000</td>\n",
       "      <td>0.000000</td>\n",
       "      <td>0.000000</td>\n",
       "      <td>0.000000</td>\n",
       "      <td>0.078000</td>\n",
       "      <td>21.000000</td>\n",
       "      <td>0.000000</td>\n",
       "    </tr>\n",
       "    <tr>\n",
       "      <th>25%</th>\n",
       "      <td>1.000000</td>\n",
       "      <td>99.000000</td>\n",
       "      <td>62.000000</td>\n",
       "      <td>0.000000</td>\n",
       "      <td>0.000000</td>\n",
       "      <td>27.300000</td>\n",
       "      <td>0.243750</td>\n",
       "      <td>24.000000</td>\n",
       "      <td>0.000000</td>\n",
       "    </tr>\n",
       "    <tr>\n",
       "      <th>50%</th>\n",
       "      <td>3.000000</td>\n",
       "      <td>117.000000</td>\n",
       "      <td>72.000000</td>\n",
       "      <td>23.000000</td>\n",
       "      <td>30.500000</td>\n",
       "      <td>32.000000</td>\n",
       "      <td>0.372500</td>\n",
       "      <td>29.000000</td>\n",
       "      <td>0.000000</td>\n",
       "    </tr>\n",
       "    <tr>\n",
       "      <th>75%</th>\n",
       "      <td>6.000000</td>\n",
       "      <td>140.250000</td>\n",
       "      <td>80.000000</td>\n",
       "      <td>32.000000</td>\n",
       "      <td>127.250000</td>\n",
       "      <td>36.600000</td>\n",
       "      <td>0.626250</td>\n",
       "      <td>41.000000</td>\n",
       "      <td>1.000000</td>\n",
       "    </tr>\n",
       "    <tr>\n",
       "      <th>max</th>\n",
       "      <td>17.000000</td>\n",
       "      <td>199.000000</td>\n",
       "      <td>122.000000</td>\n",
       "      <td>99.000000</td>\n",
       "      <td>846.000000</td>\n",
       "      <td>67.100000</td>\n",
       "      <td>2.420000</td>\n",
       "      <td>81.000000</td>\n",
       "      <td>1.000000</td>\n",
       "    </tr>\n",
       "  </tbody>\n",
       "</table>\n",
       "</div>"
      ],
      "text/plain": [
       "       Pregnancies     Glucose  BloodPressure  SkinThickness     Insulin  \\\n",
       "count   768.000000  768.000000     768.000000     768.000000  768.000000   \n",
       "mean      3.845052  120.894531      69.105469      20.536458   79.799479   \n",
       "std       3.369578   31.972618      19.355807      15.952218  115.244002   \n",
       "min       0.000000    0.000000       0.000000       0.000000    0.000000   \n",
       "25%       1.000000   99.000000      62.000000       0.000000    0.000000   \n",
       "50%       3.000000  117.000000      72.000000      23.000000   30.500000   \n",
       "75%       6.000000  140.250000      80.000000      32.000000  127.250000   \n",
       "max      17.000000  199.000000     122.000000      99.000000  846.000000   \n",
       "\n",
       "              BMI  DiabetesPedigreeFunction         Age     Outcome  \n",
       "count  768.000000                768.000000  768.000000  768.000000  \n",
       "mean    31.992578                  0.471876   33.240885    0.348958  \n",
       "std      7.884160                  0.331329   11.760232    0.476951  \n",
       "min      0.000000                  0.078000   21.000000    0.000000  \n",
       "25%     27.300000                  0.243750   24.000000    0.000000  \n",
       "50%     32.000000                  0.372500   29.000000    0.000000  \n",
       "75%     36.600000                  0.626250   41.000000    1.000000  \n",
       "max     67.100000                  2.420000   81.000000    1.000000  "
      ]
     },
     "execution_count": 6,
     "metadata": {},
     "output_type": "execute_result"
    }
   ],
   "source": [
    "df.describe()"
   ]
  },
  {
   "cell_type": "markdown",
   "id": "f9965c23-f5c9-463e-88bf-a641609646ce",
   "metadata": {},
   "source": [
    "#### b. How many missing values present in dataset"
   ]
  },
  {
   "cell_type": "code",
   "execution_count": 7,
   "id": "03d094b7-30a5-404e-a560-31f3c83b7ae2",
   "metadata": {},
   "outputs": [
    {
     "data": {
      "text/html": [
       "<div>\n",
       "<style scoped>\n",
       "    .dataframe tbody tr th:only-of-type {\n",
       "        vertical-align: middle;\n",
       "    }\n",
       "\n",
       "    .dataframe tbody tr th {\n",
       "        vertical-align: top;\n",
       "    }\n",
       "\n",
       "    .dataframe thead th {\n",
       "        text-align: right;\n",
       "    }\n",
       "</style>\n",
       "<table border=\"1\" class=\"dataframe\">\n",
       "  <thead>\n",
       "    <tr style=\"text-align: right;\">\n",
       "      <th></th>\n",
       "      <th>Pregnancies</th>\n",
       "      <th>Glucose</th>\n",
       "      <th>BloodPressure</th>\n",
       "      <th>SkinThickness</th>\n",
       "      <th>Insulin</th>\n",
       "      <th>BMI</th>\n",
       "      <th>DiabetesPedigreeFunction</th>\n",
       "      <th>Age</th>\n",
       "      <th>Outcome</th>\n",
       "    </tr>\n",
       "  </thead>\n",
       "  <tbody>\n",
       "    <tr>\n",
       "      <th>0</th>\n",
       "      <td>6.0</td>\n",
       "      <td>148.0</td>\n",
       "      <td>72.0</td>\n",
       "      <td>35.0</td>\n",
       "      <td>NaN</td>\n",
       "      <td>33.6</td>\n",
       "      <td>0.627</td>\n",
       "      <td>50</td>\n",
       "      <td>1</td>\n",
       "    </tr>\n",
       "    <tr>\n",
       "      <th>1</th>\n",
       "      <td>1.0</td>\n",
       "      <td>85.0</td>\n",
       "      <td>66.0</td>\n",
       "      <td>29.0</td>\n",
       "      <td>NaN</td>\n",
       "      <td>26.6</td>\n",
       "      <td>0.351</td>\n",
       "      <td>31</td>\n",
       "      <td>0</td>\n",
       "    </tr>\n",
       "    <tr>\n",
       "      <th>2</th>\n",
       "      <td>8.0</td>\n",
       "      <td>183.0</td>\n",
       "      <td>64.0</td>\n",
       "      <td>NaN</td>\n",
       "      <td>NaN</td>\n",
       "      <td>23.3</td>\n",
       "      <td>0.672</td>\n",
       "      <td>32</td>\n",
       "      <td>1</td>\n",
       "    </tr>\n",
       "    <tr>\n",
       "      <th>3</th>\n",
       "      <td>1.0</td>\n",
       "      <td>89.0</td>\n",
       "      <td>66.0</td>\n",
       "      <td>23.0</td>\n",
       "      <td>94.0</td>\n",
       "      <td>28.1</td>\n",
       "      <td>0.167</td>\n",
       "      <td>21</td>\n",
       "      <td>0</td>\n",
       "    </tr>\n",
       "    <tr>\n",
       "      <th>4</th>\n",
       "      <td>NaN</td>\n",
       "      <td>137.0</td>\n",
       "      <td>40.0</td>\n",
       "      <td>35.0</td>\n",
       "      <td>168.0</td>\n",
       "      <td>43.1</td>\n",
       "      <td>2.288</td>\n",
       "      <td>33</td>\n",
       "      <td>1</td>\n",
       "    </tr>\n",
       "    <tr>\n",
       "      <th>...</th>\n",
       "      <td>...</td>\n",
       "      <td>...</td>\n",
       "      <td>...</td>\n",
       "      <td>...</td>\n",
       "      <td>...</td>\n",
       "      <td>...</td>\n",
       "      <td>...</td>\n",
       "      <td>...</td>\n",
       "      <td>...</td>\n",
       "    </tr>\n",
       "    <tr>\n",
       "      <th>763</th>\n",
       "      <td>10.0</td>\n",
       "      <td>101.0</td>\n",
       "      <td>76.0</td>\n",
       "      <td>48.0</td>\n",
       "      <td>180.0</td>\n",
       "      <td>32.9</td>\n",
       "      <td>0.171</td>\n",
       "      <td>63</td>\n",
       "      <td>0</td>\n",
       "    </tr>\n",
       "    <tr>\n",
       "      <th>764</th>\n",
       "      <td>2.0</td>\n",
       "      <td>122.0</td>\n",
       "      <td>70.0</td>\n",
       "      <td>27.0</td>\n",
       "      <td>NaN</td>\n",
       "      <td>36.8</td>\n",
       "      <td>0.340</td>\n",
       "      <td>27</td>\n",
       "      <td>0</td>\n",
       "    </tr>\n",
       "    <tr>\n",
       "      <th>765</th>\n",
       "      <td>5.0</td>\n",
       "      <td>121.0</td>\n",
       "      <td>72.0</td>\n",
       "      <td>23.0</td>\n",
       "      <td>112.0</td>\n",
       "      <td>26.2</td>\n",
       "      <td>0.245</td>\n",
       "      <td>30</td>\n",
       "      <td>0</td>\n",
       "    </tr>\n",
       "    <tr>\n",
       "      <th>766</th>\n",
       "      <td>1.0</td>\n",
       "      <td>126.0</td>\n",
       "      <td>60.0</td>\n",
       "      <td>NaN</td>\n",
       "      <td>NaN</td>\n",
       "      <td>30.1</td>\n",
       "      <td>0.349</td>\n",
       "      <td>47</td>\n",
       "      <td>1</td>\n",
       "    </tr>\n",
       "    <tr>\n",
       "      <th>767</th>\n",
       "      <td>1.0</td>\n",
       "      <td>93.0</td>\n",
       "      <td>70.0</td>\n",
       "      <td>31.0</td>\n",
       "      <td>NaN</td>\n",
       "      <td>30.4</td>\n",
       "      <td>0.315</td>\n",
       "      <td>23</td>\n",
       "      <td>0</td>\n",
       "    </tr>\n",
       "  </tbody>\n",
       "</table>\n",
       "<p>768 rows × 9 columns</p>\n",
       "</div>"
      ],
      "text/plain": [
       "     Pregnancies  Glucose  BloodPressure  SkinThickness  Insulin   BMI  \\\n",
       "0            6.0    148.0           72.0           35.0      NaN  33.6   \n",
       "1            1.0     85.0           66.0           29.0      NaN  26.6   \n",
       "2            8.0    183.0           64.0            NaN      NaN  23.3   \n",
       "3            1.0     89.0           66.0           23.0     94.0  28.1   \n",
       "4            NaN    137.0           40.0           35.0    168.0  43.1   \n",
       "..           ...      ...            ...            ...      ...   ...   \n",
       "763         10.0    101.0           76.0           48.0    180.0  32.9   \n",
       "764          2.0    122.0           70.0           27.0      NaN  36.8   \n",
       "765          5.0    121.0           72.0           23.0    112.0  26.2   \n",
       "766          1.0    126.0           60.0            NaN      NaN  30.1   \n",
       "767          1.0     93.0           70.0           31.0      NaN  30.4   \n",
       "\n",
       "     DiabetesPedigreeFunction  Age  Outcome  \n",
       "0                       0.627   50        1  \n",
       "1                       0.351   31        0  \n",
       "2                       0.672   32        1  \n",
       "3                       0.167   21        0  \n",
       "4                       2.288   33        1  \n",
       "..                        ...  ...      ...  \n",
       "763                     0.171   63        0  \n",
       "764                     0.340   27        0  \n",
       "765                     0.245   30        0  \n",
       "766                     0.349   47        1  \n",
       "767                     0.315   23        0  \n",
       "\n",
       "[768 rows x 9 columns]"
      ]
     },
     "execution_count": 7,
     "metadata": {},
     "output_type": "execute_result"
    }
   ],
   "source": [
    "df['Glucose'].replace(0, np.NaN, inplace=True)\n",
    "df\n",
    "df['Pregnancies'].replace(0, np.NaN, inplace=True)\n",
    "df\n",
    "df['BloodPressure'].replace(0, np.NaN, inplace=True)\n",
    "df\n",
    "df['SkinThickness'].replace(0, np.NaN, inplace=True)\n",
    "df\n",
    "df['Insulin'].replace(0, np.NaN, inplace=True)\n",
    "df\n",
    "df['BMI'].replace(0, np.NaN, inplace=True)\n",
    "df\n",
    "df['DiabetesPedigreeFunction'].replace(0, np.NaN, inplace=True)\n",
    "df\n"
   ]
  },
  {
   "cell_type": "markdown",
   "id": "e620babe-5b6b-46b3-bdb0-c6f8b4e7f505",
   "metadata": {},
   "source": [
    "### 2. Outcome Distribution"
   ]
  },
  {
   "cell_type": "markdown",
   "id": "ef2b2197-6667-4fac-b8c5-5101d09042e9",
   "metadata": {},
   "source": [
    "#### a. What is the distribution of the Outcomes Variables(0 vs 1) "
   ]
  },
  {
   "cell_type": "code",
   "execution_count": 8,
   "id": "fbb50e7e-5a44-4fdc-8241-8ab766736f16",
   "metadata": {},
   "outputs": [
    {
     "data": {
      "text/plain": [
       "Outcome\n",
       "0    500\n",
       "1    268\n",
       "Name: count, dtype: int64"
      ]
     },
     "execution_count": 8,
     "metadata": {},
     "output_type": "execute_result"
    }
   ],
   "source": [
    "outcome_variables= df['Outcome'].value_counts()\n",
    "outcome_variables"
   ]
  },
  {
   "cell_type": "markdown",
   "id": "2b8583bd-be6c-4814-be48-96c1ff0a9eac",
   "metadata": {},
   "source": [
    "#### b. What is the percentage of diabetics and non-diabetics"
   ]
  },
  {
   "cell_type": "code",
   "execution_count": 9,
   "id": "adefdcd2-ffc7-4cf7-89f2-2859b7dd5567",
   "metadata": {},
   "outputs": [
    {
     "data": {
      "text/plain": [
       "Outcome\n",
       "0    65.104167\n",
       "1    34.895833\n",
       "Name: count, dtype: float64"
      ]
     },
     "execution_count": 9,
     "metadata": {},
     "output_type": "execute_result"
    }
   ],
   "source": [
    "outcome_variables = df['Outcome'].value_counts()\n",
    "outcome_per = outcome_variables/outcome_variables.sum()*100\n",
    "outcome_per"
   ]
  },
  {
   "cell_type": "code",
   "execution_count": 10,
   "id": "52238f6b-d04c-4abf-9159-4c7c211f6e30",
   "metadata": {},
   "outputs": [],
   "source": [
    "## count \"0\"-------- \"Non Diabetics\"\n",
    "## count \"1\"-------- \"Diabetics\""
   ]
  },
  {
   "cell_type": "markdown",
   "id": "45cf6f02-1536-480e-a66b-1d177837abbb",
   "metadata": {},
   "source": [
    "### 3. Feature Distribution"
   ]
  },
  {
   "cell_type": "markdown",
   "id": "b3132f55-10c5-4d39-bd4e-4b62d97c574d",
   "metadata": {},
   "source": [
    "#### a. What are the distribution pf each features(e.g Pregnancies,Glucose,Bloodpressure,etc)"
   ]
  },
  {
   "cell_type": "code",
   "execution_count": 11,
   "id": "861c8f59-0fe4-4a97-93bd-40bf2f0d4912",
   "metadata": {},
   "outputs": [
    {
     "name": "stdout",
     "output_type": "stream",
     "text": [
      "Pregnancies\n",
      "1.0     135\n",
      "2.0     103\n",
      "3.0      75\n",
      "4.0      68\n",
      "5.0      57\n",
      "6.0      50\n",
      "7.0      45\n",
      "8.0      38\n",
      "9.0      28\n",
      "10.0     24\n",
      "11.0     11\n",
      "13.0     10\n",
      "12.0      9\n",
      "14.0      2\n",
      "15.0      1\n",
      "17.0      1\n",
      "Name: count, dtype: int64\n",
      "Glucose\n",
      "100.0    17\n",
      "99.0     17\n",
      "106.0    14\n",
      "129.0    14\n",
      "125.0    14\n",
      "         ..\n",
      "67.0      1\n",
      "65.0      1\n",
      "62.0      1\n",
      "61.0      1\n",
      "199.0     1\n",
      "Name: count, Length: 135, dtype: int64\n",
      "BloodPressure\n",
      "70.0     57\n",
      "74.0     52\n",
      "68.0     45\n",
      "78.0     45\n",
      "72.0     44\n",
      "64.0     43\n",
      "80.0     40\n",
      "76.0     39\n",
      "60.0     37\n",
      "62.0     34\n",
      "66.0     30\n",
      "82.0     30\n",
      "88.0     25\n",
      "84.0     23\n",
      "90.0     22\n",
      "86.0     21\n",
      "58.0     21\n",
      "50.0     13\n",
      "56.0     12\n",
      "54.0     11\n",
      "52.0     11\n",
      "92.0      8\n",
      "75.0      8\n",
      "65.0      7\n",
      "85.0      6\n",
      "94.0      6\n",
      "48.0      5\n",
      "44.0      4\n",
      "96.0      4\n",
      "110.0     3\n",
      "106.0     3\n",
      "98.0      3\n",
      "100.0     3\n",
      "30.0      2\n",
      "104.0     2\n",
      "108.0     2\n",
      "55.0      2\n",
      "46.0      2\n",
      "114.0     1\n",
      "24.0      1\n",
      "102.0     1\n",
      "95.0      1\n",
      "61.0      1\n",
      "40.0      1\n",
      "38.0      1\n",
      "122.0     1\n",
      "Name: count, dtype: int64\n",
      "SkinThickness\n",
      "32.0    31\n",
      "30.0    27\n",
      "27.0    23\n",
      "23.0    22\n",
      "33.0    20\n",
      "18.0    20\n",
      "28.0    20\n",
      "31.0    19\n",
      "39.0    18\n",
      "19.0    18\n",
      "29.0    17\n",
      "22.0    16\n",
      "40.0    16\n",
      "37.0    16\n",
      "25.0    16\n",
      "26.0    16\n",
      "35.0    15\n",
      "41.0    15\n",
      "36.0    14\n",
      "17.0    14\n",
      "15.0    14\n",
      "20.0    13\n",
      "24.0    12\n",
      "13.0    11\n",
      "42.0    11\n",
      "21.0    10\n",
      "46.0     8\n",
      "34.0     8\n",
      "12.0     7\n",
      "38.0     7\n",
      "14.0     6\n",
      "11.0     6\n",
      "45.0     6\n",
      "16.0     6\n",
      "43.0     6\n",
      "44.0     5\n",
      "10.0     5\n",
      "47.0     4\n",
      "48.0     4\n",
      "49.0     3\n",
      "50.0     3\n",
      "52.0     2\n",
      "54.0     2\n",
      "7.0      2\n",
      "8.0      2\n",
      "51.0     1\n",
      "56.0     1\n",
      "60.0     1\n",
      "63.0     1\n",
      "99.0     1\n",
      "Name: count, dtype: int64\n",
      "Insulin\n",
      "105.0    11\n",
      "130.0     9\n",
      "140.0     9\n",
      "120.0     8\n",
      "100.0     7\n",
      "         ..\n",
      "129.0     1\n",
      "128.0     1\n",
      "127.0     1\n",
      "119.0     1\n",
      "846.0     1\n",
      "Name: count, Length: 185, dtype: int64\n",
      "BMI\n",
      "32.0    13\n",
      "31.6    12\n",
      "31.2    12\n",
      "32.4    10\n",
      "33.3    10\n",
      "        ..\n",
      "38.8     1\n",
      "30.3     1\n",
      "38.6     1\n",
      "38.3     1\n",
      "67.1     1\n",
      "Name: count, Length: 247, dtype: int64\n",
      "DiabetesPedigreeFunction\n",
      "0.258    6\n",
      "0.254    6\n",
      "0.261    5\n",
      "0.238    5\n",
      "0.259    5\n",
      "        ..\n",
      "0.420    1\n",
      "0.419    1\n",
      "0.417    1\n",
      "0.416    1\n",
      "2.420    1\n",
      "Name: count, Length: 517, dtype: int64\n",
      "Age\n",
      "22    72\n",
      "21    63\n",
      "25    48\n",
      "24    46\n",
      "23    38\n",
      "28    35\n",
      "26    33\n",
      "27    32\n",
      "29    29\n",
      "31    24\n",
      "41    22\n",
      "30    21\n",
      "37    19\n",
      "42    18\n",
      "33    17\n",
      "38    16\n",
      "36    16\n",
      "32    16\n",
      "45    15\n",
      "34    14\n",
      "40    13\n",
      "43    13\n",
      "46    13\n",
      "39    12\n",
      "35    10\n",
      "52     8\n",
      "44     8\n",
      "50     8\n",
      "51     8\n",
      "58     7\n",
      "54     6\n",
      "47     6\n",
      "53     5\n",
      "60     5\n",
      "49     5\n",
      "57     5\n",
      "48     5\n",
      "66     4\n",
      "62     4\n",
      "63     4\n",
      "55     4\n",
      "59     3\n",
      "56     3\n",
      "65     3\n",
      "67     3\n",
      "61     2\n",
      "69     2\n",
      "64     1\n",
      "68     1\n",
      "70     1\n",
      "72     1\n",
      "81     1\n",
      "Name: count, dtype: int64\n"
     ]
    }
   ],
   "source": [
    "dist_Pregnancies = df.value_counts(\"Pregnancies\")\n",
    "print(dist_Pregnancies)\n",
    "dist_Glucose = df.value_counts(\"Glucose\")\n",
    "print(dist_Glucose)\n",
    "dist_BloodPressure = df.value_counts(\"BloodPressure\")\n",
    "print(dist_BloodPressure)\n",
    "dist_SkinThickness = df.value_counts(\"SkinThickness\")\n",
    "print(dist_SkinThickness)\n",
    "dist_Insulin = df.value_counts(\"Insulin\")\n",
    "print(dist_Insulin)\n",
    "dist_BMI = df.value_counts(\"BMI\")\n",
    "print(dist_BMI)\n",
    "dist_DiabetesPedigreeFunction = df.value_counts(\"DiabetesPedigreeFunction\")\n",
    "print(dist_DiabetesPedigreeFunction)\n",
    "dist_Age = df.value_counts(\"Age\")\n",
    "print(dist_Age)"
   ]
  },
  {
   "cell_type": "markdown",
   "id": "79f7bc5f-05bb-4a26-b7a1-9c76eb8b4552",
   "metadata": {},
   "source": [
    "#### b.Are their any outlier in the features"
   ]
  },
  {
   "cell_type": "code",
   "execution_count": 12,
   "id": "fc7cf66b-17f1-4ecf-ad5c-3fa197e125d4",
   "metadata": {},
   "outputs": [
    {
     "data": {
      "text/plain": [
       "{'whiskers': [<matplotlib.lines.Line2D at 0x1a8a2000b50>,\n",
       "  <matplotlib.lines.Line2D at 0x1a8a2001750>],\n",
       " 'caps': [<matplotlib.lines.Line2D at 0x1a8a20021d0>,\n",
       "  <matplotlib.lines.Line2D at 0x1a8a2002d10>],\n",
       " 'boxes': [<matplotlib.lines.Line2D at 0x1a8a2000250>],\n",
       " 'medians': [<matplotlib.lines.Line2D at 0x1a8a2003610>],\n",
       " 'fliers': [<matplotlib.lines.Line2D at 0x1a8a200c090>],\n",
       " 'means': []}"
      ]
     },
     "execution_count": 12,
     "metadata": {},
     "output_type": "execute_result"
    },
    {
     "data": {
      "image/png": "[encoded data removed]",
      "text/plain": [
       "<Figure size 640x480 with 1 Axes>"
      ]
     },
     "metadata": {},
     "output_type": "display_data"
    }
   ],
   "source": [
    "df['Pregnancies']= df['Pregnancies'].fillna(df['Pregnancies'].mean())\n",
    "plt.boxplot(df[\"Pregnancies\"],vert=False)"
   ]
  },
  {
   "cell_type": "markdown",
   "id": "8ad94b93-9ed4-4a82-99eb-80d0946720d7",
   "metadata": {},
   "source": [
    "### 4. Relationship Between Feature"
   ]
  },
  {
   "cell_type": "markdown",
   "id": "b9e269cc-3413-4e1a-b79f-d62ff4e9e675",
   "metadata": {},
   "source": [
    "#### a. What are the correlation between the feature"
   ]
  },
  {
   "cell_type": "code",
   "execution_count": 13,
   "id": "edd37718-ba98-495e-b575-c09382808362",
   "metadata": {},
   "outputs": [
    {
     "name": "stdout",
     "output_type": "stream",
     "text": [
      "Correlation between feature                           Pregnancies   Glucose  BloodPressure  SkinThickness  \\\n",
      "Pregnancies                  1.000000  0.154738       0.264564       0.156167   \n",
      "Glucose                      0.154738  1.000000       0.223192       0.228043   \n",
      "BloodPressure                0.264564  0.223192       1.000000       0.226839   \n",
      "SkinThickness                0.156167  0.228043       0.226839       1.000000   \n",
      "Insulin                      0.096930  0.581186       0.098272       0.184888   \n",
      "BMI                          0.111132  0.232771       0.289230       0.648214   \n",
      "DiabetesPedigreeFunction    -0.005658  0.137246      -0.002805       0.115016   \n",
      "Age                          0.511662  0.267136       0.330107       0.166816   \n",
      "\n",
      "                           Insulin       BMI  DiabetesPedigreeFunction  \\\n",
      "Pregnancies               0.096930  0.111132                 -0.005658   \n",
      "Glucose                   0.581186  0.232771                  0.137246   \n",
      "BloodPressure             0.098272  0.289230                 -0.002805   \n",
      "SkinThickness             0.184888  0.648214                  0.115016   \n",
      "Insulin                   1.000000  0.228050                  0.130395   \n",
      "BMI                       0.228050  1.000000                  0.155382   \n",
      "DiabetesPedigreeFunction  0.130395  0.155382                  1.000000   \n",
      "Age                       0.220261  0.025841                  0.033561   \n",
      "\n",
      "                               Age  \n",
      "Pregnancies               0.511662  \n",
      "Glucose                   0.267136  \n",
      "BloodPressure             0.330107  \n",
      "SkinThickness             0.166816  \n",
      "Insulin                   0.220261  \n",
      "BMI                       0.025841  \n",
      "DiabetesPedigreeFunction  0.033561  \n",
      "Age                       1.000000  \n"
     ]
    }
   ],
   "source": [
    "feature = [\"Pregnancies\", \"Glucose\", \"BloodPressure\", \"SkinThickness\", \"Insulin\", \"BMI\", \"DiabetesPedigreeFunction\", \"Age\"]\n",
    "\n",
    "correlation = df[feature].corr()\n",
    "print(\"Correlation between feature\",correlation)"
   ]
  },
  {
   "cell_type": "markdown",
   "id": "4e71280e-b228-473f-936c-6c3fde751ab3",
   "metadata": {},
   "source": [
    "#### b. Which features are most strongly correlated with the outcome"
   ]
  },
  {
   "cell_type": "code",
   "execution_count": 14,
   "id": "9d3f289a-3cea-4d3e-bc71-36522b8f5119",
   "metadata": {},
   "outputs": [
    {
     "name": "stdout",
     "output_type": "stream",
     "text": [
      "Most strongly Correlated with Outcome: Glucose\n"
     ]
    }
   ],
   "source": [
    "# Calculate the correlation matrix\n",
    "correlation_matrix = df.corr()\n",
    "\n",
    "\n",
    "correlation_with_outcome = correlation_matrix['Outcome']\n",
    "correlation_with_outcome\n",
    "print(\"Most strongly Correlated with Outcome:\",\"Glucose\")\n",
    "correlation_outcome=df.corr()"
   ]
  },
  {
   "cell_type": "markdown",
   "id": "a5f68646-8edf-46ef-8603-b3673667ccf3",
   "metadata": {},
   "source": [
    "### 5. Age and Diabetes"
   ]
  },
  {
   "cell_type": "markdown",
   "id": "6ea49d1b-ee72-4458-8652-264612005dde",
   "metadata": {},
   "source": [
    "#### a. How does the age distribution differ between diabetic and non-diabetic individuals"
   ]
  },
  {
   "cell_type": "code",
   "execution_count": 15,
   "id": "cfc2cf26-e8bc-4544-a68b-da85d0ce607f",
   "metadata": {},
   "outputs": [
    {
     "name": "stdout",
     "output_type": "stream",
     "text": [
      "Age distribution for diabetic individuals:\n",
      "count    268.000000\n",
      "mean      37.067164\n",
      "std       10.968254\n",
      "min       21.000000\n",
      "25%       28.000000\n",
      "50%       36.000000\n",
      "75%       44.000000\n",
      "max       70.000000\n",
      "Name: Age, dtype: float64\n",
      "\n",
      "Age distribution for non-diabetic individuals:\n",
      "count    500.000000\n",
      "mean      31.190000\n",
      "std       11.667655\n",
      "min       21.000000\n",
      "25%       23.000000\n",
      "50%       27.000000\n",
      "75%       37.000000\n",
      "max       81.000000\n",
      "Name: Age, dtype: float64\n"
     ]
    }
   ],
   "source": [
    "diabetic_age = df[df['Outcome'] == 1]['Age'].describe()\n",
    "\n",
    "non_diabetic_age = df[df['Outcome'] == 0]['Age'].describe()\n",
    "\n",
    "print(\"Age distribution for diabetic individuals:\")\n",
    "print(diabetic_age)\n",
    "\n",
    "print(\"\\nAge distribution for non-diabetic individuals:\")\n",
    "print(non_diabetic_age)\n"
   ]
  },
  {
   "cell_type": "markdown",
   "id": "724fcc95-8696-4854-992d-c8d03a23f468",
   "metadata": {},
   "source": [
    "#### b. Is there a specific age group that is more prone to diabetes"
   ]
  },
  {
   "cell_type": "code",
   "execution_count": 16,
   "id": "03a66f71-323e-40c9-8587-5cec81135d6d",
   "metadata": {},
   "outputs": [
    {
     "name": "stderr",
     "output_type": "stream",
     "text": [
      "C:\\Users\\admin\\AppData\\Local\\Temp\\ipykernel_704\\1188587537.py:6: FutureWarning: The default of observed=False is deprecated and will be changed to True in a future version of pandas. Pass observed=False to retain current behavior or observed=True to adopt the future default and silence this warning.\n",
      "  diabetes_prevalence = df.groupby('Age_Category')['Outcome'].mean().reset_index()\n"
     ]
    },
    {
     "data": {
      "text/html": [
       "<div>\n",
       "<style scoped>\n",
       "    .dataframe tbody tr th:only-of-type {\n",
       "        vertical-align: middle;\n",
       "    }\n",
       "\n",
       "    .dataframe tbody tr th {\n",
       "        vertical-align: top;\n",
       "    }\n",
       "\n",
       "    .dataframe thead th {\n",
       "        text-align: right;\n",
       "    }\n",
       "</style>\n",
       "<table border=\"1\" class=\"dataframe\">\n",
       "  <thead>\n",
       "    <tr style=\"text-align: right;\">\n",
       "      <th></th>\n",
       "      <th>Age_Category</th>\n",
       "      <th>Outcome</th>\n",
       "    </tr>\n",
       "  </thead>\n",
       "  <tbody>\n",
       "    <tr>\n",
       "      <th>0</th>\n",
       "      <td>18.5</td>\n",
       "      <td>NaN</td>\n",
       "    </tr>\n",
       "    <tr>\n",
       "      <th>1</th>\n",
       "      <td>18.5-24.9</td>\n",
       "      <td>0.141553</td>\n",
       "    </tr>\n",
       "    <tr>\n",
       "      <th>2</th>\n",
       "      <td>25-29.9</td>\n",
       "      <td>0.299435</td>\n",
       "    </tr>\n",
       "    <tr>\n",
       "      <th>3</th>\n",
       "      <td>30-34.9</td>\n",
       "      <td>0.456522</td>\n",
       "    </tr>\n",
       "    <tr>\n",
       "      <th>4</th>\n",
       "      <td>35-39.9</td>\n",
       "      <td>0.465753</td>\n",
       "    </tr>\n",
       "    <tr>\n",
       "      <th>5</th>\n",
       "      <td>40</td>\n",
       "      <td>0.550847</td>\n",
       "    </tr>\n",
       "  </tbody>\n",
       "</table>\n",
       "</div>"
      ],
      "text/plain": [
       "  Age_Category   Outcome\n",
       "0         18.5       NaN\n",
       "1    18.5-24.9  0.141553\n",
       "2      25-29.9  0.299435\n",
       "3      30-34.9  0.456522\n",
       "4      35-39.9  0.465753\n",
       "5           40  0.550847"
      ]
     },
     "execution_count": 16,
     "metadata": {},
     "output_type": "execute_result"
    }
   ],
   "source": [
    "bins = [0, 18.5, 25, 30, 35, 40, 50]\n",
    "\n",
    "labels = ['18.5', '18.5-24.9', '25-29.9', '30-34.9', '35-39.9', '40']\n",
    "\n",
    "df['Age_Category'] = pd.cut(df['Age'], bins=bins, labels=labels, right=False)\n",
    "diabetes_prevalence = df.groupby('Age_Category')['Outcome'].mean().reset_index()\n",
    "diabetes_prevalence"
   ]
  },
  {
   "cell_type": "markdown",
   "id": "755e675d-307d-43da-a72a-29258e1091f7",
   "metadata": {},
   "source": [
    "### 6. Glucose Levels"
   ]
  },
  {
   "cell_type": "markdown",
   "id": "f92a48f4-67a9-4f27-b5dd-ffe7aef4a896",
   "metadata": {},
   "source": [
    "#### a. How do glucose levels differ betwwen diabetes and non diabetes level individuals"
   ]
  },
  {
   "cell_type": "code",
   "execution_count": 17,
   "id": "faf513c2-2f83-453e-a64e-700fcc528bd5",
   "metadata": {},
   "outputs": [
    {
     "data": {
      "text/plain": [
       "count    266.000000\n",
       "mean     142.319549\n",
       "std       29.599199\n",
       "min       78.000000\n",
       "25%      119.000000\n",
       "50%      140.000000\n",
       "75%      167.000000\n",
       "max      199.000000\n",
       "Name: Glucose, dtype: float64"
      ]
     },
     "execution_count": 17,
     "metadata": {},
     "output_type": "execute_result"
    }
   ],
   "source": [
    "Glucose_level_diabetes = df[df['Outcome'] == 1]['Glucose'].describe()\n",
    "Glucose_level_diabetes"
   ]
  },
  {
   "cell_type": "code",
   "execution_count": 18,
   "id": "3bd6597c-53fc-47f8-a707-edc820b1aa81",
   "metadata": {},
   "outputs": [
    {
     "data": {
      "text/plain": [
       "count    497.000000\n",
       "mean     110.643863\n",
       "std       24.776906\n",
       "min       44.000000\n",
       "25%       93.000000\n",
       "50%      107.000000\n",
       "75%      125.000000\n",
       "max      197.000000\n",
       "Name: Glucose, dtype: float64"
      ]
     },
     "execution_count": 18,
     "metadata": {},
     "output_type": "execute_result"
    }
   ],
   "source": [
    "Glucose_level_nondiabetes=df[df['Outcome']==0]['Glucose'].describe()\n",
    "Glucose_level_nondiabetes"
   ]
  },
  {
   "cell_type": "markdown",
   "id": "304efb82-894e-42a8-a9fd-9f6d747cc105",
   "metadata": {},
   "source": [
    "#### b. What is the average glucose level each outcome"
   ]
  },
  {
   "cell_type": "code",
   "execution_count": 19,
   "id": "b7be9309-0a76-44da-bfbd-b4acd3006e17",
   "metadata": {},
   "outputs": [
    {
     "name": "stdout",
     "output_type": "stream",
     "text": [
      "Average Glucose Level by Outcome: Outcome\n",
      "0    110.643863\n",
      "1    142.319549\n",
      "Name: Glucose, dtype: float64\n"
     ]
    }
   ],
   "source": [
    "average_glucose_level_outcome = df.groupby('Outcome')['Glucose'].mean()\n",
    "print(\"Average Glucose Level by Outcome:\",average_glucose_level_outcome)\n"
   ]
  },
  {
   "cell_type": "markdown",
   "id": "e7d826cb-bdc4-425d-a66b-ff5a3adf79f7",
   "metadata": {},
   "source": [
    "#### 7. BMI and Diabetes"
   ]
  },
  {
   "cell_type": "markdown",
   "id": "bba4d8df-81c8-4b4b-9a1d-f148b4b55f21",
   "metadata": {},
   "source": [
    "#### a. How does the BMI distribution differ between diabetes and non diabetes"
   ]
  },
  {
   "cell_type": "code",
   "execution_count": 20,
   "id": "f4dc8e6e-c66b-40aa-b13f-01a683ddfd5b",
   "metadata": {},
   "outputs": [
    {
     "data": {
      "text/plain": [
       "count    491.000000\n",
       "mean      30.859674\n",
       "std        6.560737\n",
       "min       18.200000\n",
       "25%       25.600000\n",
       "50%       30.100000\n",
       "75%       35.300000\n",
       "max       57.300000\n",
       "Name: BMI, dtype: float64"
      ]
     },
     "execution_count": 20,
     "metadata": {},
     "output_type": "execute_result"
    }
   ],
   "source": [
    "BMI_distribution_nondiabetes=df[df[\"Outcome\"]==0]['BMI'].describe()\n",
    "BMI_distribution_nondiabetes"
   ]
  },
  {
   "cell_type": "code",
   "execution_count": 21,
   "id": "d8d0ba5f-d3bb-4af4-8c3f-50eab953b515",
   "metadata": {},
   "outputs": [
    {
     "data": {
      "text/plain": [
       "count    266.000000\n",
       "mean      35.406767\n",
       "std        6.614982\n",
       "min       22.900000\n",
       "25%       30.900000\n",
       "50%       34.300000\n",
       "75%       38.925000\n",
       "max       67.100000\n",
       "Name: BMI, dtype: float64"
      ]
     },
     "execution_count": 21,
     "metadata": {},
     "output_type": "execute_result"
    }
   ],
   "source": [
    "BMI_distribution_diabetes=df[df['Outcome']==1]['BMI'].describe()\n",
    "BMI_distribution_diabetes"
   ]
  },
  {
   "cell_type": "markdown",
   "id": "56caf826-4d78-4ee7-a2d8-69c23bdbae36",
   "metadata": {},
   "source": [
    "#### b. Is there a specific BMI range that is more associated with diabetes"
   ]
  },
  {
   "cell_type": "code",
   "execution_count": 22,
   "id": "d007ef1e-fb5c-44e2-a404-9fa2710539e6",
   "metadata": {},
   "outputs": [
    {
     "name": "stderr",
     "output_type": "stream",
     "text": [
      "C:\\Users\\admin\\AppData\\Local\\Temp\\ipykernel_704\\1587485354.py:6: FutureWarning: The default of observed=False is deprecated and will be changed to True in a future version of pandas. Pass observed=False to retain current behavior or observed=True to adopt the future default and silence this warning.\n",
      "  diabetes_prevalence = df.groupby('BMI_Category')['Outcome'].mean().reset_index()\n"
     ]
    },
    {
     "data": {
      "text/html": [
       "<div>\n",
       "<style scoped>\n",
       "    .dataframe tbody tr th:only-of-type {\n",
       "        vertical-align: middle;\n",
       "    }\n",
       "\n",
       "    .dataframe tbody tr th {\n",
       "        vertical-align: top;\n",
       "    }\n",
       "\n",
       "    .dataframe thead th {\n",
       "        text-align: right;\n",
       "    }\n",
       "</style>\n",
       "<table border=\"1\" class=\"dataframe\">\n",
       "  <thead>\n",
       "    <tr style=\"text-align: right;\">\n",
       "      <th></th>\n",
       "      <th>BMI_Category</th>\n",
       "      <th>Outcome</th>\n",
       "    </tr>\n",
       "  </thead>\n",
       "  <tbody>\n",
       "    <tr>\n",
       "      <th>0</th>\n",
       "      <td>18.5</td>\n",
       "      <td>0.000000</td>\n",
       "    </tr>\n",
       "    <tr>\n",
       "      <th>1</th>\n",
       "      <td>18.5-24.9</td>\n",
       "      <td>0.068627</td>\n",
       "    </tr>\n",
       "    <tr>\n",
       "      <th>2</th>\n",
       "      <td>25-29.9</td>\n",
       "      <td>0.223464</td>\n",
       "    </tr>\n",
       "    <tr>\n",
       "      <th>3</th>\n",
       "      <td>30-34.9</td>\n",
       "      <td>0.450893</td>\n",
       "    </tr>\n",
       "    <tr>\n",
       "      <th>4</th>\n",
       "      <td>35-39.9</td>\n",
       "      <td>0.420000</td>\n",
       "    </tr>\n",
       "    <tr>\n",
       "      <th>5</th>\n",
       "      <td>40</td>\n",
       "      <td>0.539326</td>\n",
       "    </tr>\n",
       "  </tbody>\n",
       "</table>\n",
       "</div>"
      ],
      "text/plain": [
       "  BMI_Category   Outcome\n",
       "0         18.5  0.000000\n",
       "1    18.5-24.9  0.068627\n",
       "2      25-29.9  0.223464\n",
       "3      30-34.9  0.450893\n",
       "4      35-39.9  0.420000\n",
       "5           40  0.539326"
      ]
     },
     "execution_count": 22,
     "metadata": {},
     "output_type": "execute_result"
    }
   ],
   "source": [
    "bins = [0, 18.5, 25, 30, 35, 40, 50]\n",
    "\n",
    "labels = ['18.5', '18.5-24.9', '25-29.9', '30-34.9', '35-39.9', '40']\n",
    "\n",
    "df['BMI_Category'] = pd.cut(df['BMI'], bins=bins, labels=labels, right=False)\n",
    "diabetes_prevalence = df.groupby('BMI_Category')['Outcome'].mean().reset_index()\n",
    "diabetes_prevalence"
   ]
  },
  {
   "cell_type": "markdown",
   "id": "927e072a-c5bd-4e80-a2c0-6b78ea6ff03e",
   "metadata": {},
   "source": [
    "#### 8.Pregnencies and Diabetes"
   ]
  },
  {
   "cell_type": "markdown",
   "id": "0c121184-7905-44cb-aa0e-a4ec38a11464",
   "metadata": {},
   "source": [
    "#### a. Is there a relationship between the number of pregnecies and the likehood of having diabetes"
   ]
  },
  {
   "cell_type": "code",
   "execution_count": 23,
   "id": "9b35e256-fe50-4674-97ee-8ccc6d894dfb",
   "metadata": {},
   "outputs": [
    {
     "name": "stdout",
     "output_type": "stream",
     "text": [
      "Correlation between the number of pregnancies and the likelihood of having diabetes: 0.24826293112342326\n"
     ]
    }
   ],
   "source": [
    "correlation = df['Pregnancies'].corr(df['Outcome'])\n",
    "print(\"Correlation between the number of pregnancies and the likelihood of having diabetes:\", correlation)\n"
   ]
  },
  {
   "cell_type": "markdown",
   "id": "320775fd-d97f-4d72-ba87-582a346cb015",
   "metadata": {},
   "source": [
    "#### b. How does the numbeer of pregnacies vary between diabetic and non diabetic individuals"
   ]
  },
  {
   "cell_type": "code",
   "execution_count": 24,
   "id": "cafdf34e-cf02-42f7-8944-76f32add3b4d",
   "metadata": {},
   "outputs": [
    {
     "data": {
      "text/plain": [
       "count    268.000000\n",
       "mean       5.502976\n",
       "std        3.199897\n",
       "min        1.000000\n",
       "25%        3.000000\n",
       "50%        4.494673\n",
       "75%        8.000000\n",
       "max       17.000000\n",
       "Name: Pregnancies, dtype: float64"
      ]
     },
     "execution_count": 24,
     "metadata": {},
     "output_type": "execute_result"
    }
   ],
   "source": [
    "pregnancies_diabetes=df[df['Outcome']==1]['Pregnancies'].describe()\n",
    "pregnancies_diabetes"
   ]
  },
  {
   "cell_type": "code",
   "execution_count": 25,
   "id": "c661d4f2-1824-44fc-93b4-128f3fb7bc19",
   "metadata": {},
   "outputs": [
    {
     "data": {
      "text/plain": [
       "count    268.000000\n",
       "mean       5.502976\n",
       "std        3.199897\n",
       "min        1.000000\n",
       "25%        3.000000\n",
       "50%        4.494673\n",
       "75%        8.000000\n",
       "max       17.000000\n",
       "Name: Pregnancies, dtype: float64"
      ]
     },
     "execution_count": 25,
     "metadata": {},
     "output_type": "execute_result"
    }
   ],
   "source": [
    "pregnacies_nondiabetes=df[df['Outcome']==0]['Pregnancies'].describe()\n",
    "pregnancies_diabetes"
   ]
  },
  {
   "cell_type": "markdown",
   "id": "8220f3d9-d5f8-4fb1-ba5e-d7d9a1b06d41",
   "metadata": {},
   "source": [
    "#### 9. Blood Pressure Analysis"
   ]
  },
  {
   "cell_type": "markdown",
   "id": "d1faaa12-136e-46a1-9c9e-5ae6413f6a4f",
   "metadata": {},
   "source": [
    "#### a. How does the blood pressure vary between diabetic and non diabetic individuals"
   ]
  },
  {
   "cell_type": "code",
   "execution_count": 26,
   "id": "9da97139-082e-4afc-b295-1ce6542ff968",
   "metadata": {},
   "outputs": [
    {
     "data": {
      "text/plain": [
       "count    252.000000\n",
       "mean      75.321429\n",
       "std       12.299866\n",
       "min       30.000000\n",
       "25%       68.000000\n",
       "50%       74.500000\n",
       "75%       84.000000\n",
       "max      114.000000\n",
       "Name: BloodPressure, dtype: float64"
      ]
     },
     "execution_count": 26,
     "metadata": {},
     "output_type": "execute_result"
    }
   ],
   "source": [
    "Blood_Pressure_Diabetes=df[df['Outcome']==1]['BloodPressure'].describe()\n",
    "Blood_Pressure_Diabetes"
   ]
  },
  {
   "cell_type": "code",
   "execution_count": 27,
   "id": "f492c68b-fded-43c3-9e3f-35be4a4d0e06",
   "metadata": {},
   "outputs": [
    {
     "data": {
      "text/plain": [
       "count    481.000000\n",
       "mean      70.877339\n",
       "std       12.161223\n",
       "min       24.000000\n",
       "25%       62.000000\n",
       "50%       70.000000\n",
       "75%       78.000000\n",
       "max      122.000000\n",
       "Name: BloodPressure, dtype: float64"
      ]
     },
     "execution_count": 27,
     "metadata": {},
     "output_type": "execute_result"
    }
   ],
   "source": [
    "Blood_Presure_NonDiabetes=df[df['Outcome']==0]['BloodPressure'].describe()\n",
    "Blood_Presure_NonDiabetes"
   ]
  },
  {
   "cell_type": "markdown",
   "id": "dc6e4ab7-bca3-4afa-868a-51897c875173",
   "metadata": {},
   "source": [
    "#### b. Are there any significant difference in blood pressure distribution for different outcomes"
   ]
  },
  {
   "cell_type": "code",
   "execution_count": 28,
   "id": "0ce5e22d-a983-448a-a98f-d16b3d22777a",
   "metadata": {},
   "outputs": [
    {
     "data": {
      "image/png": "[encoded data removed]",
      "text/plain": [
       "<Figure size 1200x800 with 1 Axes>"
      ]
     },
     "metadata": {},
     "output_type": "display_data"
    }
   ],
   "source": [
    "plt.figure(figsize=(12, 8))\n",
    "sns.boxplot(x='Outcome', y='BloodPressure', data=df)\n",
    "plt.title('Blood Pressure Distribution by Outcome')\n",
    "plt.xlabel('Outcome')\n",
    "plt.ylabel('Blood Pressure')\n",
    "plt.show()"
   ]
  },
  {
   "cell_type": "markdown",
   "id": "96b1cff7-c922-4f9c-a477-32e367deea96",
   "metadata": {},
   "source": [
    "#### 10. Skin thickness and insulin levels vary between diabetes and non diabetes individuals"
   ]
  },
  {
   "cell_type": "code",
   "execution_count": 29,
   "id": "beea164b-c6bb-47ff-9e21-89a7ca29139b",
   "metadata": {},
   "outputs": [
    {
     "name": "stdout",
     "output_type": "stream",
     "text": [
      "Skin Thickness and Insuline Level By Non_Diabetic:        SkinThickness     Insulin\n",
      "count     361.000000  264.000000\n",
      "mean       27.235457  130.287879\n",
      "std        10.026491  102.482237\n",
      "min         7.000000   15.000000\n",
      "25%        19.000000   66.000000\n",
      "50%        27.000000  102.500000\n",
      "75%        33.000000  161.250000\n",
      "max        60.000000  744.000000\n",
      "Skin Thickness and Insuline Level By diabetic:        SkinThickness     Insulin\n",
      "count     180.000000  130.000000\n",
      "mean       33.000000  206.846154\n",
      "std        10.327595  132.699898\n",
      "min         7.000000   14.000000\n",
      "25%        27.000000  127.500000\n",
      "50%        32.000000  169.500000\n",
      "75%        39.000000  239.250000\n",
      "max        99.000000  846.000000\n"
     ]
    }
   ],
   "source": [
    "Non_Diabetic=df[df['Outcome']==0][['SkinThickness','Insulin']].describe()\n",
    "\n",
    "diabetic=df[df['Outcome']==1][['SkinThickness','Insulin']].describe()\n",
    "\n",
    "print(\"Skin Thickness and Insuline Level By Non_Diabetic:\",Non_Diabetic)\n",
    "print(\"Skin Thickness and Insuline Level By diabetic:\",diabetic)"
   ]
  },
  {
   "cell_type": "markdown",
   "id": "95ca3106-3c93-4aa7-9211-3d789793e744",
   "metadata": {},
   "source": [
    "#### b. Is there any relationship between skin thickness, insulin levels and outcome"
   ]
  },
  {
   "cell_type": "code",
   "execution_count": 30,
   "id": "867da995-9418-428e-ae96-3d4879880576",
   "metadata": {},
   "outputs": [
    {
     "data": {
      "text/html": [
       "<div>\n",
       "<style scoped>\n",
       "    .dataframe tbody tr th:only-of-type {\n",
       "        vertical-align: middle;\n",
       "    }\n",
       "\n",
       "    .dataframe tbody tr th {\n",
       "        vertical-align: top;\n",
       "    }\n",
       "\n",
       "    .dataframe thead th {\n",
       "        text-align: right;\n",
       "    }\n",
       "</style>\n",
       "<table border=\"1\" class=\"dataframe\">\n",
       "  <thead>\n",
       "    <tr style=\"text-align: right;\">\n",
       "      <th></th>\n",
       "      <th>SkinThickness</th>\n",
       "      <th>Insulin</th>\n",
       "      <th>Outcome</th>\n",
       "    </tr>\n",
       "  </thead>\n",
       "  <tbody>\n",
       "    <tr>\n",
       "      <th>SkinThickness</th>\n",
       "      <td>1.000000</td>\n",
       "      <td>0.184888</td>\n",
       "      <td>0.259491</td>\n",
       "    </tr>\n",
       "    <tr>\n",
       "      <th>Insulin</th>\n",
       "      <td>0.184888</td>\n",
       "      <td>1.000000</td>\n",
       "      <td>0.303454</td>\n",
       "    </tr>\n",
       "    <tr>\n",
       "      <th>Outcome</th>\n",
       "      <td>0.259491</td>\n",
       "      <td>0.303454</td>\n",
       "      <td>1.000000</td>\n",
       "    </tr>\n",
       "  </tbody>\n",
       "</table>\n",
       "</div>"
      ],
      "text/plain": [
       "               SkinThickness   Insulin   Outcome\n",
       "SkinThickness       1.000000  0.184888  0.259491\n",
       "Insulin             0.184888  1.000000  0.303454\n",
       "Outcome             0.259491  0.303454  1.000000"
      ]
     },
     "execution_count": 30,
     "metadata": {},
     "output_type": "execute_result"
    }
   ],
   "source": [
    "relation_skinthickness_insulinelevels_outcome=df[['SkinThickness', 'Insulin', 'Outcome']].corr()\n",
    "relation_skinthickness_insulinelevels_outcome"
   ]
  },
  {
   "cell_type": "markdown",
   "id": "a766c278-8a50-484c-a55d-e0d8ce0d33c2",
   "metadata": {},
   "source": [
    "#### 11. Daibetes pedigree function"
   ]
  },
  {
   "cell_type": "markdown",
   "id": "dc4c6aec-4247-47c4-aed7-3ac926b7d569",
   "metadata": {},
   "source": [
    "#### a. How does the diabetes pedigree function differ between diabetes and non diabetes individuals"
   ]
  },
  {
   "cell_type": "code",
   "execution_count": 31,
   "id": "7c8d277d-3b2e-4f75-b5a5-9be6170a1c47",
   "metadata": {},
   "outputs": [
    {
     "data": {
      "text/plain": [
       "count    268.000000\n",
       "mean       0.550500\n",
       "std        0.372354\n",
       "min        0.088000\n",
       "25%        0.262500\n",
       "50%        0.449000\n",
       "75%        0.728000\n",
       "max        2.420000\n",
       "Name: DiabetesPedigreeFunction, dtype: float64"
      ]
     },
     "execution_count": 31,
     "metadata": {},
     "output_type": "execute_result"
    }
   ],
   "source": [
    "DPF_Diabetes=df[df['Outcome']==1]['DiabetesPedigreeFunction'].describe()\n",
    "DPF_Diabetes"
   ]
  },
  {
   "cell_type": "code",
   "execution_count": 32,
   "id": "d6ed4264-9861-455e-929b-77bb9380e07f",
   "metadata": {},
   "outputs": [
    {
     "data": {
      "text/plain": [
       "count    500.000000\n",
       "mean       0.429734\n",
       "std        0.299085\n",
       "min        0.078000\n",
       "25%        0.229750\n",
       "50%        0.336000\n",
       "75%        0.561750\n",
       "max        2.329000\n",
       "Name: DiabetesPedigreeFunction, dtype: float64"
      ]
     },
     "execution_count": 32,
     "metadata": {},
     "output_type": "execute_result"
    }
   ],
   "source": [
    "DPF_Non_Diabetes=df[df['Outcome']==0]['DiabetesPedigreeFunction'].describe()\n",
    "DPF_Non_Diabetes"
   ]
  },
  {
   "cell_type": "markdown",
   "id": "abaec9f4-53b7-4c69-9c2b-70b097808f83",
   "metadata": {},
   "source": [
    "#### b. What is the distribution of the diabetes pedigree function"
   ]
  },
  {
   "cell_type": "code",
   "execution_count": 33,
   "id": "521fac57-a436-4996-aae2-303dc07e1e77",
   "metadata": {},
   "outputs": [
    {
     "name": "stdout",
     "output_type": "stream",
     "text": [
      "Distribution of Diabetes Pedigree Function (DiabetesPedigreeFunction):\n",
      "DiabetesPedigreeFunction\n",
      "0.258    0.007812\n",
      "0.254    0.007812\n",
      "0.268    0.006510\n",
      "0.207    0.006510\n",
      "0.261    0.006510\n",
      "           ...   \n",
      "1.353    0.001302\n",
      "0.655    0.001302\n",
      "0.092    0.001302\n",
      "0.926    0.001302\n",
      "0.171    0.001302\n",
      "Name: proportion, Length: 517, dtype: float64\n"
     ]
    }
   ],
   "source": [
    "DPF_distribution = df['DiabetesPedigreeFunction'].value_counts(normalize=True)\n",
    "\n",
    "print(\"Distribution of Diabetes Pedigree Function (DiabetesPedigreeFunction):\")\n",
    "print(DPF_distribution)"
   ]
  },
  {
   "cell_type": "code",
   "execution_count": 34,
   "id": "c4ef58bd-0985-4536-bcb6-fd3ff239ff2c",
   "metadata": {},
   "outputs": [
    {
     "name": "stdout",
     "output_type": "stream",
     "text": [
      "Distribution of Diabetes Pedigree Function (DiabetesPedigreeFunction):\n",
      "DPF_Binned\n",
      "0.5-1.0    0.815884\n",
      "1.0-1.5    0.148014\n",
      "1.5-2.0    0.021661\n",
      "2.0-2.5    0.014440\n",
      "Name: proportion, dtype: float64\n"
     ]
    }
   ],
   "source": [
    "bins = [0.5, 1.0, 1.5, 2.0, 2.5]\n",
    "labels = ['0.5-1.0', '1.0-1.5', '1.5-2.0', '2.0-2.5']\n",
    "df['DPF_Binned'] = pd.cut(df['DiabetesPedigreeFunction'], bins=bins, labels=labels, right=False)\n",
    "DPF_distribution = df['DPF_Binned'].value_counts(normalize=True).sort_index()\n",
    "print(\"Distribution of Diabetes Pedigree Function (DiabetesPedigreeFunction):\")\n",
    "print(DPF_distribution)"
   ]
  },
  {
   "cell_type": "code",
   "execution_count": null,
   "id": "a0b65b60-ad74-444a-a606-b5eed91286ef",
   "metadata": {},
   "outputs": [],
   "source": []
  }
 ],
 "metadata": {
  "kernelspec": {
   "display_name": "Python 3 (ipykernel)",
   "language": "python",
   "name": "python3"
  },
  "language_info": {
   "codemirror_mode": {
    "name": "ipython",
    "version": 3
   },
   "file_extension": ".py",
   "mimetype": "text/x-python",
   "name": "python",
   "nbconvert_exporter": "python",
   "pygments_lexer": "ipython3",
   "version": "3.11.7"
  }
 },
 "nbformat": 4,
 "nbformat_minor": 5
}
